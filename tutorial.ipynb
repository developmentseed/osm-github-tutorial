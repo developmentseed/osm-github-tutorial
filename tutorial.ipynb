{
 "cells": [
  {
   "cell_type": "markdown",
   "id": "f8799bb4",
   "metadata": {
    "slideshow": {
     "slide_type": "slide"
    }
   },
   "source": [
    "# OSM What is Github? Tutorial\n",
    "\n",
    "Compiled by Aimee Barciauskas but content sourced from:\n",
    "- [Introduction to Version Control](https://github.com/waterhackweek/git_practice/blob/master/Git-Waterhackweek-Slides.pdf)\n",
    "- ..."
   ]
  },
  {
   "cell_type": "code",
   "execution_count": 1,
   "id": "63158b72",
   "metadata": {
    "slideshow": {
     "slide_type": "skip"
    }
   },
   "outputs": [],
   "source": [
    "from netCDF4 import Dataset\n",
    "import numpy as np\n",
    "import matplotlib\n",
    "from matplotlib import pyplot as plt\n",
    "import xarray as xr\n",
    "import intake, yaml\n",
    "import intake_esm\n",
    "import numpy as np\n",
    "%matplotlib inline"
   ]
  },
  {
   "cell_type": "markdown",
   "id": "df7cd8a2",
   "metadata": {
    "slideshow": {
     "slide_type": "slide"
    }
   },
   "source": [
    "## Learning Objectives Part 1/2\n",
    "\n",
    "* **Key takeaway** from this tutorial should be that learning git and github will enable you to go further and faster together.\n",
    "* This tutorial is an example of how we can go faster by sharing and reusing content. There are many openly availably resources out there already on github and even github for science workflows. No reason to reinvent the wheel!"
   ]
  },
  {
   "cell_type": "markdown",
   "id": "a2fd3140",
   "metadata": {
    "slideshow": {
     "slide_type": "slide"
    }
   },
   "source": [
    "## Learning Objectives Part 2/2\n",
    "\n",
    "* Understand the advantages of using Git and Github\n",
    "* How to use Github to preserve and version your own work\n",
    "* How to use Github to collaborate with others"
   ]
  },
  {
   "cell_type": "markdown",
   "id": "c494c95f",
   "metadata": {
    "slideshow": {
     "slide_type": "slide"
    }
   },
   "source": [
    "## Why Git & Github?\n",
    "\n",
    "Goals: \n",
    "\n",
    "* Keep documents safe\n",
    "* Retrieve old versions\n",
    "* Share and collaborate with others \n",
    "\n",
    "![final document phd comic](./assets/final-doc.jpeg \"'Final' Document Comic\")"
   ]
  },
  {
   "cell_type": "markdown",
   "id": "30eb588b",
   "metadata": {
    "slideshow": {
     "slide_type": "slide"
    }
   },
   "source": [
    "## What is Git?\n",
    "\n",
    "Git is software for local version control, facilitating incremental changes to any type of document.\n",
    "\n",
    "![Incremental Changes](./assets/incremental-changes.png)"
   ]
  },
  {
   "cell_type": "markdown",
   "id": "4cc4aaa3",
   "metadata": {},
   "source": [
    "## What is Github?\n",
    "\n",
    "Github is a web platform for version control and collaboration."
   ]
  }
 ],
 "metadata": {
  "celltoolbar": "Slideshow",
  "kernelspec": {
   "display_name": "Python 3 (ipykernel)",
   "language": "python",
   "name": "python3"
  },
  "language_info": {
   "codemirror_mode": {
    "name": "ipython",
    "version": 3
   },
   "file_extension": ".py",
   "mimetype": "text/x-python",
   "name": "python",
   "nbconvert_exporter": "python",
   "pygments_lexer": "ipython3",
   "version": "3.8.12"
  }
 },
 "nbformat": 4,
 "nbformat_minor": 5
}
